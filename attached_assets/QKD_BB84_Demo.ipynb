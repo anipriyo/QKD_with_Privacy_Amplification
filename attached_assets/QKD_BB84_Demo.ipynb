{
  "nbformat": 4,
  "nbformat_minor": 0,
  "metadata": {
    "colab": {
      "provenance": []
    },
    "kernelspec": {
      "name": "python3",
      "display_name": "Python 3"
    },
    "language_info": {
      "name": "python"
    }
  },
  "cells": [
    {
      "cell_type": "code",
      "execution_count": 1,
      "metadata": {
        "colab": {
          "base_uri": "https://localhost:8080/"
        },
        "id": "Y0Q4y-YbsaPM",
        "outputId": "4b051a70-2f56-4e1d-f343-c2ac116f035e"
      },
      "outputs": [
        {
          "output_type": "stream",
          "name": "stdout",
          "text": [
            "Collecting qiskit\n",
            "  Downloading qiskit-2.0.0-cp39-abi3-manylinux_2_17_x86_64.manylinux2014_x86_64.whl.metadata (12 kB)\n",
            "Collecting rustworkx>=0.15.0 (from qiskit)\n",
            "  Downloading rustworkx-0.16.0-cp39-abi3-manylinux_2_17_x86_64.manylinux2014_x86_64.whl.metadata (10 kB)\n",
            "Requirement already satisfied: numpy<3,>=1.17 in /usr/local/lib/python3.11/dist-packages (from qiskit) (2.0.2)\n",
            "Requirement already satisfied: scipy>=1.5 in /usr/local/lib/python3.11/dist-packages (from qiskit) (1.15.2)\n",
            "Requirement already satisfied: sympy>=1.3 in /usr/local/lib/python3.11/dist-packages (from qiskit) (1.13.1)\n",
            "Requirement already satisfied: dill>=0.3 in /usr/local/lib/python3.11/dist-packages (from qiskit) (0.3.7)\n",
            "Requirement already satisfied: python-dateutil>=2.8.0 in /usr/local/lib/python3.11/dist-packages (from qiskit) (2.9.0.post0)\n",
            "Collecting stevedore>=3.0.0 (from qiskit)\n",
            "  Downloading stevedore-5.4.1-py3-none-any.whl.metadata (2.3 kB)\n",
            "Requirement already satisfied: typing-extensions in /usr/local/lib/python3.11/dist-packages (from qiskit) (4.13.2)\n",
            "Collecting symengine<0.14,>=0.11 (from qiskit)\n",
            "  Downloading symengine-0.13.0-cp311-cp311-manylinux_2_17_x86_64.manylinux2014_x86_64.whl.metadata (1.2 kB)\n",
            "Requirement already satisfied: six>=1.5 in /usr/local/lib/python3.11/dist-packages (from python-dateutil>=2.8.0->qiskit) (1.17.0)\n",
            "Collecting pbr>=2.0.0 (from stevedore>=3.0.0->qiskit)\n",
            "  Downloading pbr-6.1.1-py2.py3-none-any.whl.metadata (3.4 kB)\n",
            "Requirement already satisfied: mpmath<1.4,>=1.1.0 in /usr/local/lib/python3.11/dist-packages (from sympy>=1.3->qiskit) (1.3.0)\n",
            "Requirement already satisfied: setuptools in /usr/local/lib/python3.11/dist-packages (from pbr>=2.0.0->stevedore>=3.0.0->qiskit) (75.2.0)\n",
            "Downloading qiskit-2.0.0-cp39-abi3-manylinux_2_17_x86_64.manylinux2014_x86_64.whl (6.5 MB)\n",
            "\u001b[2K   \u001b[90m━━━━━━━━━━━━━━━━━━━━━━━━━━━━━━━━━━━━━━━━\u001b[0m \u001b[32m6.5/6.5 MB\u001b[0m \u001b[31m28.0 MB/s\u001b[0m eta \u001b[36m0:00:00\u001b[0m\n",
            "\u001b[?25hDownloading rustworkx-0.16.0-cp39-abi3-manylinux_2_17_x86_64.manylinux2014_x86_64.whl (2.1 MB)\n",
            "\u001b[2K   \u001b[90m━━━━━━━━━━━━━━━━━━━━━━━━━━━━━━━━━━━━━━━━\u001b[0m \u001b[32m2.1/2.1 MB\u001b[0m \u001b[31m24.0 MB/s\u001b[0m eta \u001b[36m0:00:00\u001b[0m\n",
            "\u001b[?25hDownloading stevedore-5.4.1-py3-none-any.whl (49 kB)\n",
            "\u001b[2K   \u001b[90m━━━━━━━━━━━━━━━━━━━━━━━━━━━━━━━━━━━━━━━━\u001b[0m \u001b[32m49.5/49.5 kB\u001b[0m \u001b[31m2.2 MB/s\u001b[0m eta \u001b[36m0:00:00\u001b[0m\n",
            "\u001b[?25hDownloading symengine-0.13.0-cp311-cp311-manylinux_2_17_x86_64.manylinux2014_x86_64.whl (49.7 MB)\n",
            "\u001b[2K   \u001b[90m━━━━━━━━━━━━━━━━━━━━━━━━━━━━━━━━━━━━━━━━\u001b[0m \u001b[32m49.7/49.7 MB\u001b[0m \u001b[31m10.0 MB/s\u001b[0m eta \u001b[36m0:00:00\u001b[0m\n",
            "\u001b[?25hDownloading pbr-6.1.1-py2.py3-none-any.whl (108 kB)\n",
            "\u001b[2K   \u001b[90m━━━━━━━━━━━━━━━━━━━━━━━━━━━━━━━━━━━━━━━━\u001b[0m \u001b[32m109.0/109.0 kB\u001b[0m \u001b[31m4.2 MB/s\u001b[0m eta \u001b[36m0:00:00\u001b[0m\n",
            "\u001b[?25hInstalling collected packages: symengine, rustworkx, pbr, stevedore, qiskit\n",
            "Successfully installed pbr-6.1.1 qiskit-2.0.0 rustworkx-0.16.0 stevedore-5.4.1 symengine-0.13.0\n",
            "Collecting qiskit_aer\n",
            "  Downloading qiskit_aer-0.17.0-cp311-cp311-manylinux_2_17_x86_64.manylinux2014_x86_64.whl.metadata (8.2 kB)\n",
            "Requirement already satisfied: qiskit>=1.1.0 in /usr/local/lib/python3.11/dist-packages (from qiskit_aer) (2.0.0)\n",
            "Requirement already satisfied: numpy>=1.16.3 in /usr/local/lib/python3.11/dist-packages (from qiskit_aer) (2.0.2)\n",
            "Requirement already satisfied: scipy>=1.0 in /usr/local/lib/python3.11/dist-packages (from qiskit_aer) (1.15.2)\n",
            "Requirement already satisfied: psutil>=5 in /usr/local/lib/python3.11/dist-packages (from qiskit_aer) (5.9.5)\n",
            "Requirement already satisfied: rustworkx>=0.15.0 in /usr/local/lib/python3.11/dist-packages (from qiskit>=1.1.0->qiskit_aer) (0.16.0)\n",
            "Requirement already satisfied: sympy>=1.3 in /usr/local/lib/python3.11/dist-packages (from qiskit>=1.1.0->qiskit_aer) (1.13.1)\n",
            "Requirement already satisfied: dill>=0.3 in /usr/local/lib/python3.11/dist-packages (from qiskit>=1.1.0->qiskit_aer) (0.3.7)\n",
            "Requirement already satisfied: python-dateutil>=2.8.0 in /usr/local/lib/python3.11/dist-packages (from qiskit>=1.1.0->qiskit_aer) (2.9.0.post0)\n",
            "Requirement already satisfied: stevedore>=3.0.0 in /usr/local/lib/python3.11/dist-packages (from qiskit>=1.1.0->qiskit_aer) (5.4.1)\n",
            "Requirement already satisfied: typing-extensions in /usr/local/lib/python3.11/dist-packages (from qiskit>=1.1.0->qiskit_aer) (4.13.2)\n",
            "Requirement already satisfied: symengine<0.14,>=0.11 in /usr/local/lib/python3.11/dist-packages (from qiskit>=1.1.0->qiskit_aer) (0.13.0)\n",
            "Requirement already satisfied: six>=1.5 in /usr/local/lib/python3.11/dist-packages (from python-dateutil>=2.8.0->qiskit>=1.1.0->qiskit_aer) (1.17.0)\n",
            "Requirement already satisfied: pbr>=2.0.0 in /usr/local/lib/python3.11/dist-packages (from stevedore>=3.0.0->qiskit>=1.1.0->qiskit_aer) (6.1.1)\n",
            "Requirement already satisfied: mpmath<1.4,>=1.1.0 in /usr/local/lib/python3.11/dist-packages (from sympy>=1.3->qiskit>=1.1.0->qiskit_aer) (1.3.0)\n",
            "Requirement already satisfied: setuptools in /usr/local/lib/python3.11/dist-packages (from pbr>=2.0.0->stevedore>=3.0.0->qiskit>=1.1.0->qiskit_aer) (75.2.0)\n",
            "Downloading qiskit_aer-0.17.0-cp311-cp311-manylinux_2_17_x86_64.manylinux2014_x86_64.whl (12.4 MB)\n",
            "\u001b[2K   \u001b[90m━━━━━━━━━━━━━━━━━━━━━━━━━━━━━━━━━━━━━━━━\u001b[0m \u001b[32m12.4/12.4 MB\u001b[0m \u001b[31m92.4 MB/s\u001b[0m eta \u001b[36m0:00:00\u001b[0m\n",
            "\u001b[?25hInstalling collected packages: qiskit_aer\n",
            "Successfully installed qiskit_aer-0.17.0\n",
            "Collecting pylatexenc\n",
            "  Downloading pylatexenc-2.10.tar.gz (162 kB)\n",
            "\u001b[2K     \u001b[90m━━━━━━━━━━━━━━━━━━━━━━━━━━━━━━━━━━━━━━━\u001b[0m \u001b[32m162.6/162.6 kB\u001b[0m \u001b[31m3.1 MB/s\u001b[0m eta \u001b[36m0:00:00\u001b[0m\n",
            "\u001b[?25h  Preparing metadata (setup.py) ... \u001b[?25l\u001b[?25hdone\n",
            "Building wheels for collected packages: pylatexenc\n",
            "  Building wheel for pylatexenc (setup.py) ... \u001b[?25l\u001b[?25hdone\n",
            "  Created wheel for pylatexenc: filename=pylatexenc-2.10-py3-none-any.whl size=136817 sha256=f0559d80cba6d479d306243e4476e49f0f8ee3c43c10a3f47522d8fbb65038a2\n",
            "  Stored in directory: /root/.cache/pip/wheels/b1/7a/33/9fdd892f784ed4afda62b685ae3703adf4c91aa0f524c28f03\n",
            "Successfully built pylatexenc\n",
            "Installing collected packages: pylatexenc\n",
            "Successfully installed pylatexenc-2.10\n"
          ]
        }
      ],
      "source": [
        "!pip install qiskit\n",
        "!pip install qiskit_aer\n",
        "!pip install pylatexenc"
      ]
    },
    {
      "cell_type": "code",
      "source": [
        "import numpy as np\n",
        "import random\n",
        "from qiskit import QuantumCircuit\n",
        "from qiskit.quantum_info import Statevector\n",
        "from qiskit.visualization import plot_histogram\n",
        "import matplotlib.pyplot as plt\n",
        "from qiskit_aer import Aer, AerSimulator"
      ],
      "metadata": {
        "id": "VbzhCvUl0g6y"
      },
      "execution_count": 2,
      "outputs": []
    },
    {
      "cell_type": "code",
      "source": [
        "def privacy_amp(key, bits_per_block=3, leakage_assumption=1):\n",
        "    # set of 3 ... 0 xor 1 and 1 xor 2 .... make 2 bit\n",
        "    if len(key) < bits_per_block:\n",
        "        print(f\"Key too short for privacy amplification ({len(key)} < {bits_per_block})\")\n",
        "        return key\n",
        "\n",
        "    truncate = (len(key) // bits_per_block) * bits_per_block\n",
        "    truncated_key = key[:truncate]\n",
        "\n",
        "    compressed_key = []\n",
        "\n",
        "    for i in range(0, truncate, bits_per_block):\n",
        "        block = truncated_key[i:i+bits_per_block]\n",
        "\n",
        "\n",
        "        compressed_key.append(block[0] ^ block[1])  # x xor y\n",
        "        compressed_key.append(block[1] ^ block[2])  # y Xor z\n",
        "\n",
        "    return compressed_key"
      ],
      "metadata": {
        "id": "AcZ8IZ2IsTve"
      },
      "execution_count": 3,
      "outputs": []
    },
    {
      "cell_type": "code",
      "source": [
        "n=100;\n",
        "\n",
        "\n",
        "def encode(bits,basis):\n",
        "  publickey=[]\n",
        "  for i in range(n):\n",
        "    qc=QuantumCircuit(1,1)\n",
        "    if basis[i]==0: # z basis encoding 0=0 and 1=1\n",
        "      if bits[i]==0:\n",
        "        pass\n",
        "      else:\n",
        "        qc.x(0)\n",
        "    else: # x basis encoding 0= |+> and 1= |->\n",
        "      if bits[i]==0:\n",
        "        qc.h(0)\n",
        "      else:\n",
        "        qc.x(0)\n",
        "        qc.h(0)\n",
        "    qc.barrier()\n",
        "    publickey.append(qc)\n",
        "  return publickey\n",
        "\n",
        "def decode(msg,basis):\n",
        "  measurements=[]\n",
        "  for q in range(n):\n",
        "    if basis[q]==0:\n",
        "      msg[q].measure(0,0)\n",
        "    if basis[q]==1:\n",
        "      msg[q].h(0)\n",
        "      msg[q].measure(0,0)\n",
        "    counts=run_circuit(msg[q],shots=1)\n",
        "    measured_bit=next(iter(counts))\n",
        "    measurements.append(int(measured_bit))\n",
        "  return measurements\n",
        "\n",
        "\n",
        "\n",
        "def remove_garbage(a_basis, b_basis, bits):\n",
        "    good_bits = []\n",
        "    for q in range(n):\n",
        "        if a_basis[q] == b_basis[q]:\n",
        "            # if a==b then keep bits else reject\n",
        "            good_bits.append(bits[q])\n",
        "    return good_bits\n",
        "\n",
        "\n",
        "\n",
        "def run_circuit(circuit, shots=1):\n",
        "    simulator = AerSimulator()\n",
        "\n",
        "    from qiskit import transpile\n",
        "    transpiled_circuit = transpile(circuit, simulator)\n",
        "    result = simulator.run(transpiled_circuit, shots=shots).result()\n",
        "    counts = result.get_counts()\n",
        "\n",
        "    return counts"
      ],
      "metadata": {
        "id": "LTnSAMj91LaZ"
      },
      "execution_count": 4,
      "outputs": []
    },
    {
      "cell_type": "code",
      "source": [
        "key=np.random.randint(2,size=int((3*n)/2)) # <2 that means 0 and 1 only\n",
        "print(key)"
      ],
      "metadata": {
        "colab": {
          "base_uri": "https://localhost:8080/"
        },
        "id": "oPLjrrEeWAEi",
        "outputId": "955d4159-df3c-481b-8f96-1c802f12639e"
      },
      "execution_count": 5,
      "outputs": [
        {
          "output_type": "stream",
          "name": "stdout",
          "text": [
            "[0 0 0 1 1 0 1 1 1 1 0 1 1 0 1 0 0 1 0 1 0 1 0 1 1 1 0 1 0 1 0 0 1 1 1 0 1\n",
            " 0 1 1 1 0 0 0 1 0 1 0 1 0 1 0 1 1 1 0 1 1 1 1 0 0 0 1 0 0 1 1 0 0 1 1 1 1\n",
            " 0 1 0 0 1 1 1 0 1 1 1 1 0 1 0 1 0 1 0 0 1 1 0 1 0 0 1 1 1 1 0 1 1 0 1 1 1\n",
            " 1 0 1 1 0 1 0 1 1 1 1 1 1 0 1 0 0 1 1 1 1 1 0 1 1 0 1 0 1 1 0 1 0 1 1 1 1\n",
            " 1 0]\n"
          ]
        }
      ]
    },
    {
      "cell_type": "code",
      "source": [
        "sharedkey=privacy_amp(key)\n",
        "print(sharedkey)"
      ],
      "metadata": {
        "colab": {
          "base_uri": "https://localhost:8080/"
        },
        "id": "duGoprrlwlHW",
        "outputId": "531a16e3-dded-4dfb-d00a-06f79ddc2f0f"
      },
      "execution_count": 6,
      "outputs": [
        {
          "output_type": "stream",
          "name": "stdout",
          "text": [
            "[np.int64(0), np.int64(0), np.int64(0), np.int64(1), np.int64(0), np.int64(0), np.int64(1), np.int64(1), np.int64(1), np.int64(1), np.int64(0), np.int64(1), np.int64(1), np.int64(1), np.int64(1), np.int64(1), np.int64(0), np.int64(1), np.int64(1), np.int64(1), np.int64(0), np.int64(1), np.int64(0), np.int64(1), np.int64(1), np.int64(1), np.int64(0), np.int64(1), np.int64(0), np.int64(1), np.int64(1), np.int64(1), np.int64(1), np.int64(1), np.int64(1), np.int64(0), np.int64(1), np.int64(1), np.int64(0), np.int64(0), np.int64(0), np.int64(0), np.int64(1), np.int64(0), np.int64(0), np.int64(1), np.int64(1), np.int64(0), np.int64(0), np.int64(1), np.int64(1), np.int64(0), np.int64(0), np.int64(0), np.int64(1), np.int64(0), np.int64(0), np.int64(1), np.int64(1), np.int64(1), np.int64(1), np.int64(1), np.int64(1), np.int64(0), np.int64(1), np.int64(1), np.int64(1), np.int64(0), np.int64(0), np.int64(1), np.int64(0), np.int64(1), np.int64(0), np.int64(0), np.int64(1), np.int64(1), np.int64(1), np.int64(1), np.int64(1), np.int64(0), np.int64(0), np.int64(0), np.int64(1), np.int64(1), np.int64(0), np.int64(1), np.int64(0), np.int64(0), np.int64(1), np.int64(1), np.int64(1), np.int64(1), np.int64(1), np.int64(0), np.int64(1), np.int64(1), np.int64(0), np.int64(0), np.int64(0), np.int64(1)]\n"
          ]
        }
      ]
    },
    {
      "cell_type": "code",
      "source": [
        "sender_basis = np.random.randint(2, size=n)\n",
        "print(sender_basis) #0 for z basis and 1 for x basis"
      ],
      "metadata": {
        "colab": {
          "base_uri": "https://localhost:8080/"
        },
        "id": "LYxSg-hj7vV7",
        "outputId": "f1f07748-b879-4fbc-adad-7a9c345ee35b"
      },
      "execution_count": 7,
      "outputs": [
        {
          "output_type": "stream",
          "name": "stdout",
          "text": [
            "[0 1 0 1 0 1 0 0 1 1 0 1 1 0 1 0 1 0 0 0 1 1 0 1 1 0 1 1 1 1 0 1 1 1 0 1 1\n",
            " 0 0 1 1 0 1 0 1 0 0 1 1 0 1 1 1 1 1 0 0 0 0 0 1 1 1 1 1 1 1 1 1 0 1 1 0 0\n",
            " 0 1 0 1 1 0 0 1 1 0 0 0 1 1 0 0 0 0 1 0 1 0 1 1 0 1]\n"
          ]
        }
      ]
    },
    {
      "cell_type": "code",
      "source": [
        "publickey=encode(sharedkey,sender_basis)\n",
        "# display(publickey[0])\n",
        "publickey[0].draw()"
      ],
      "metadata": {
        "colab": {
          "base_uri": "https://localhost:8080/",
          "height": 94
        },
        "id": "-r49dH8p9d8z",
        "outputId": "fc2dd883-c9c7-450b-89b7-4f125855dabd"
      },
      "execution_count": 8,
      "outputs": [
        {
          "output_type": "execute_result",
          "data": {
            "text/plain": [
              "      ░ \n",
              "  q: ─░─\n",
              "      ░ \n",
              "c: 1/═══\n",
              "        "
            ],
            "text/html": [
              "<pre style=\"word-wrap: normal;white-space: pre;background: #fff0;line-height: 1.1;font-family: &quot;Courier New&quot;,Courier,monospace\">      ░ \n",
              "  q: ─░─\n",
              "      ░ \n",
              "c: 1/═══\n",
              "        </pre>"
            ]
          },
          "metadata": {},
          "execution_count": 8
        }
      ]
    },
    {
      "cell_type": "markdown",
      "source": [
        "Reciever"
      ],
      "metadata": {
        "id": "SV8mJXd9OARr"
      }
    },
    {
      "cell_type": "code",
      "source": [
        "def eve(quantum_states, eavesdropping_rate=0.3):\n",
        "    # measure then try to decode then create a copy of the OG photon and send the copy\n",
        "    intercepted_states = []\n",
        "\n",
        "    #  eve basis\n",
        "    eve_basis = np.random.randint(2, size=n)\n",
        "    print(eve_basis)\n",
        "\n",
        "    intercepted_indices = np.random.choice(n, size=int(n * eavesdropping_rate), replace=False)\n",
        "    print(f\"Eve intercepts {len(intercepted_indices)} qubits at positions:\", intercepted_indices)\n",
        "\n",
        "    for i in range(n):\n",
        "        if i in intercepted_indices:\n",
        "            eve_circuit = quantum_states[i].copy()\n",
        "\n",
        "            # eve basis measurement\n",
        "            if eve_basis[i] == 1:\n",
        "                eve_circuit.h(0)\n",
        "\n",
        "            eve_circuit.measure(0, 0)\n",
        "\n",
        "            eve_counts = run_circuit(eve_circuit, shots=1)\n",
        "            eve_result = int(next(iter(eve_counts)))\n",
        "\n",
        "            # new qubit replacing og one\n",
        "            new_circuit = QuantumCircuit(1, 1)\n",
        "\n",
        "            # Eve prepares the state in the basis she used (not knowing Alice's original basis)\n",
        "            if eve_basis[i] == 0:  # Z basis\n",
        "                if eve_result == 1:\n",
        "                    new_circuit.x(0)\n",
        "            else:  # X basis\n",
        "                if eve_result == 0:\n",
        "                    new_circuit.h(0)\n",
        "                else:\n",
        "                    new_circuit.x(0)\n",
        "                    new_circuit.h(0)\n",
        "\n",
        "            new_circuit.barrier()\n",
        "            intercepted_states.append(new_circuit)\n",
        "        else:\n",
        "            # Eve doesn't intercept this qubit\n",
        "            intercepted_states.append(quantum_states[i].copy())\n",
        "\n",
        "    return intercepted_states\n",
        "\n",
        "\n",
        "intercepted_publickey=eve(publickey,0) # interception by eve creates error 0.5 means 50% interception"
      ],
      "metadata": {
        "colab": {
          "base_uri": "https://localhost:8080/"
        },
        "id": "ZxdzVAueaL6b",
        "outputId": "da83c332-4f0d-4871-fde5-6751435aef31"
      },
      "execution_count": 9,
      "outputs": [
        {
          "output_type": "stream",
          "name": "stdout",
          "text": [
            "[1 0 0 1 0 0 1 1 1 0 1 0 0 1 0 1 1 1 0 1 1 0 0 1 1 0 0 0 1 0 1 1 0 1 1 0 1\n",
            " 0 0 0 1 1 1 0 1 1 0 0 1 1 0 0 1 0 0 0 0 1 0 1 0 0 1 0 1 0 0 1 1 0 0 1 0 1\n",
            " 0 1 0 0 0 1 0 0 0 1 1 0 1 1 1 0 0 1 1 1 0 0 1 1 1 1]\n",
            "Eve intercepts 0 qubits at positions: []\n"
          ]
        }
      ]
    },
    {
      "cell_type": "code",
      "source": [
        "def noise(quantum_states, noise_rate=0.05):\n",
        "\n",
        "    noisy_states = []\n",
        "\n",
        "    for i in range(len(quantum_states)):\n",
        "        noisy_circuit = quantum_states[i].copy()\n",
        "\n",
        "        if np.random.random() < noise_rate:\n",
        "            # Random choice between bit flip (X), phase flip (Z), or both (Y)\n",
        "            noise_type = np.random.randint(3)\n",
        "\n",
        "            if noise_type == 0:  # Bit flip (X gate)\n",
        "                noisy_circuit.x(0)\n",
        "            elif noise_type == 1:  # Phase flip (Z gate)\n",
        "                noisy_circuit.z(0)\n",
        "            else:  # Bit+Phase flip (Y gate)\n",
        "                noisy_circuit.y(0)\n",
        "\n",
        "        noisy_states.append(noisy_circuit)\n",
        "\n",
        "    return noisy_states\n",
        "\n",
        "recieved_publickey=noise(intercepted_publickey,0) ## change this number for inducing noise"
      ],
      "metadata": {
        "id": "ho3XpjeBh2nG"
      },
      "execution_count": 10,
      "outputs": []
    },
    {
      "cell_type": "code",
      "source": [
        "\n",
        "\n",
        "reciever_basis_guess = np.random.randint(2, size=n)\n",
        "\n",
        "decodedkey=decode(recieved_publickey,reciever_basis_guess)\n",
        "print(decodedkey)"
      ],
      "metadata": {
        "colab": {
          "base_uri": "https://localhost:8080/"
        },
        "id": "Cu3x34y5_mLG",
        "outputId": "44bed41a-8c40-41ba-e2f7-eb5adb37db62"
      },
      "execution_count": 11,
      "outputs": [
        {
          "output_type": "stream",
          "name": "stdout",
          "text": [
            "[0, 0, 0, 0, 1, 1, 1, 0, 1, 0, 0, 1, 0, 1, 1, 1, 0, 0, 1, 1, 0, 0, 0, 1, 0, 1, 0, 1, 0, 1, 1, 1, 1, 1, 1, 0, 0, 1, 0, 0, 0, 0, 0, 1, 0, 1, 1, 1, 1, 1, 1, 0, 0, 0, 1, 0, 1, 0, 1, 1, 0, 1, 1, 0, 1, 0, 1, 0, 1, 1, 0, 1, 0, 0, 1, 1, 0, 1, 1, 0, 0, 1, 1, 1, 0, 1, 1, 0, 1, 0, 1, 0, 0, 0, 0, 0, 1, 0, 1, 1]\n"
          ]
        }
      ]
    },
    {
      "cell_type": "code",
      "source": [
        "\n",
        "reciever_key = remove_garbage(sender_basis, reciever_basis_guess, decodedkey)\n",
        "print(reciever_key)\n",
        "sender_key = remove_garbage(sender_basis, reciever_basis_guess, sharedkey)\n",
        "int_list = [int(x) for x in sender_key]\n",
        "print(int_list)\n"
      ],
      "metadata": {
        "colab": {
          "base_uri": "https://localhost:8080/"
        },
        "id": "lkliGIHHMJYL",
        "outputId": "54030a5f-671c-46ad-d2ad-ae55d3799739"
      },
      "execution_count": 12,
      "outputs": [
        {
          "output_type": "stream",
          "name": "stdout",
          "text": [
            "[0, 0, 0, 1, 1, 0, 1, 1, 0, 1, 0, 0, 1, 1, 0, 1, 1, 1, 0, 1, 0, 0, 0, 0, 0, 1, 1, 0, 0, 1, 1, 1, 0, 1, 0, 0, 0, 1, 1, 1, 1, 0, 1, 1, 1, 0, 1]\n",
            "[0, 0, 0, 1, 1, 0, 1, 1, 0, 1, 0, 0, 1, 1, 0, 1, 1, 1, 0, 1, 0, 0, 0, 0, 0, 1, 1, 0, 0, 1, 1, 1, 0, 1, 0, 0, 0, 1, 1, 1, 1, 0, 1, 1, 1, 0, 1]\n"
          ]
        }
      ]
    },
    {
      "cell_type": "code",
      "source": [
        "print(\"Keys match:\", reciever_key == int_list)\n",
        "\n",
        "\n",
        "match_percentage = len(reciever_key) / n * 100\n",
        "print(f\"Percentage of matching bases: {match_percentage:.2f}%\")\n",
        "\n",
        "# eavesdropping detection\n",
        "def detect_eavesdropping(alice_bits, bob_bits, sample_size=None):\n",
        "    if sample_size is None:\n",
        "        sample_size = min(20, len(bob_bits)//4)\n",
        "    check_positions = np.random.choice(range(len(bob_bits)), sample_size, replace=False)\n",
        "\n",
        "    alice_sample = [alice_bits[i] for i in check_positions]\n",
        "    bob_sample = [bob_bits[i] for i in check_positions]\n",
        "\n",
        "\n",
        "    errors = sum(a != b for a, b in zip(alice_sample, bob_sample))\n",
        "    error_rate = errors / sample_size\n",
        "\n",
        "\n",
        "    remaining_positions = [i for i in range(len(bob_bits)) if i not in check_positions]\n",
        "    alice_final = [alice_bits[i] for i in remaining_positions]\n",
        "    bob_final = [bob_bits[i] for i in remaining_positions]\n",
        "\n",
        "    return error_rate, alice_final, bob_final\n",
        "\n",
        "error_rate, alice_final, bob_final = detect_eavesdropping(int_list, reciever_key)\n",
        "print(f\"Detected error rate: {error_rate:.2f}\")\n",
        "print(f\"Final key length: {len(alice_final)}\")"
      ],
      "metadata": {
        "colab": {
          "base_uri": "https://localhost:8080/"
        },
        "id": "rtQs5UM3P9-H",
        "outputId": "72b1a906-f450-4808-d4df-20319e497bcc"
      },
      "execution_count": 13,
      "outputs": [
        {
          "output_type": "stream",
          "name": "stdout",
          "text": [
            "Keys match: True\n",
            "Percentage of matching bases: 47.00%\n",
            "Detected error rate: 0.00\n",
            "Final key length: 36\n"
          ]
        }
      ]
    }
  ]
}